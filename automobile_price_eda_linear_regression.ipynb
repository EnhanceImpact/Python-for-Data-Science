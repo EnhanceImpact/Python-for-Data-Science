{
  "cells": [
    {
      "cell_type": "markdown",
      "metadata": {
        "id": "view-in-github",
        "colab_type": "text"
      },
      "source": [
        "<a href=\"https://colab.research.google.com/github/EnhanceImpact/Python-for-Data-Science/blob/main/automobile_price_eda_linear_regression.ipynb\" target=\"_parent\"><img src=\"https://colab.research.google.com/assets/colab-badge.svg\" alt=\"Open In Colab\"/></a>"
      ]
    },
    {
      "cell_type": "markdown",
      "id": "a654dcc3",
      "metadata": {
        "id": "a654dcc3"
      },
      "source": [
        "# Automobile Price: EDA, Cleaning, and Simple Linear Regression\n",
        "This notebook performs:\n",
        "1) **EDA** and data cleaning (drop `normalized-losses`, fix dtypes)\n",
        "2) **Scatterplot matrix** for numeric features (slides-friendly)\n",
        "3) **Feature selection**: choose the single numeric feature most correlated with `price`\n",
        "4) **Simple Linear Regression** (train/test split) using that one feature\n",
        "\n",
        "**Note:** Keep your dataset as a CSV with the column names shown in the sample."
      ]
    },
    {
      "cell_type": "markdown",
      "id": "b02a8b18",
      "metadata": {
        "id": "b02a8b18"
      },
      "source": [
        "## 1. Imports & Settings"
      ]
    },
    {
      "cell_type": "code",
      "execution_count": null,
      "id": "2f341e59",
      "metadata": {
        "id": "2f341e59"
      },
      "outputs": [],
      "source": [
        "import pandas as pd\n",
        "import numpy as np\n",
        "import matplotlib.pyplot as plt\n",
        "from pandas.plotting import scatter_matrix\n",
        "from sklearn.model_selection import train_test_split\n",
        "from sklearn.linear_model import LinearRegression\n",
        "from sklearn.metrics import r2_score, mean_absolute_error, mean_squared_error\n",
        "\n",
        "pd.set_option('display.max_columns', 100)\n",
        "pd.set_option('display.width', 120)"
      ]
    },
    {
      "cell_type": "markdown",
      "id": "792c5cf9",
      "metadata": {
        "id": "792c5cf9"
      },
      "source": [
        "## 2. Load Data\n",
        "Update the `data_path` variable to point to your CSV file."
      ]
    },
    {
      "cell_type": "code",
      "execution_count": null,
      "id": "c72da31d",
      "metadata": {
        "id": "c72da31d"
      },
      "outputs": [],
      "source": [
        "data_path = 'automobile_data.csv'  # <-- change to your path\n",
        "df = pd.read_csv(data_path)\n",
        "print('Raw shape:', df.shape)\n",
        "df.head()"
      ]
    },
    {
      "cell_type": "markdown",
      "id": "f139b64f",
      "metadata": {
        "id": "f139b64f"
      },
      "source": [
        "## 3. Data Cleaning\n",
        "- Drop `normalized-losses`\n",
        "- Convert numeric-like columns to numeric dtypes\n",
        "- Drop rows with missing target (`price`)"
      ]
    },
    {
      "cell_type": "code",
      "execution_count": null,
      "id": "7fd83867",
      "metadata": {
        "id": "7fd83867"
      },
      "outputs": [],
      "source": [
        "# Drop normalized-losses if present\n",
        "if 'normalized-losses' in df.columns:\n",
        "    df = df.drop(columns=['normalized-losses'])\n",
        "\n",
        "# Known numeric columns from the dataset\n",
        "numeric_like = [\n",
        "    'price','highway-mpg','city-mpg','peak-rpm','horsepower','compression-ratio',\n",
        "    'stroke','bore','engine-size','curb-weight','height','width','length','wheel-base'\n",
        "]\n",
        "\n",
        "for col in numeric_like:\n",
        "    if col in df.columns:\n",
        "        df[col] = pd.to_numeric(df[col], errors='coerce')\n",
        "\n",
        "# Ensure target exists and drop rows with missing price\n",
        "if 'price' not in df.columns:\n",
        "    raise ValueError('Target column \"price\" not found in data.')\n",
        "df = df.dropna(subset=['price']).reset_index(drop=True)\n",
        "\n",
        "print('Shape after cleaning:', df.shape)\n",
        "df.info()"
      ]
    },
    {
      "cell_type": "markdown",
      "id": "18c4ce60",
      "metadata": {
        "id": "18c4ce60"
      },
      "source": [
        "## 4. Quick EDA\n",
        "Head, describe (numeric), and basic correlations."
      ]
    },
    {
      "cell_type": "code",
      "execution_count": null,
      "id": "fdeba861",
      "metadata": {
        "id": "fdeba861"
      },
      "outputs": [],
      "source": [
        "display(df.head())\n",
        "display(df.describe(numeric_only=True))\n",
        "\n",
        "corr = df.corr(numeric_only=True)\n",
        "if 'price' in corr.columns:\n",
        "    display(corr['price'].sort_values(ascending=False))\n",
        "else:\n",
        "    print('No numeric correlation to price found yet.')"
      ]
    },
    {
      "cell_type": "markdown",
      "id": "6f2a8b4f",
      "metadata": {
        "id": "6f2a8b4f"
      },
      "source": [
        "## 5. Scatterplot Matrix (Numeric Features)\n",
        "A compact scatterplot matrix for numeric features. Use this in slides to discuss relationships."
      ]
    },
    {
      "cell_type": "code",
      "execution_count": null,
      "id": "bb2c575a",
      "metadata": {
        "id": "bb2c575a"
      },
      "outputs": [],
      "source": [
        "num_cols = df.select_dtypes(include=[np.number]).columns.tolist()\n",
        "# Keep to a manageable subset if many columns\n",
        "plot_cols = num_cols\n",
        "if len(plot_cols) > 8:\n",
        "    # prioritize columns with strongest |corr| to price\n",
        "    if 'price' in corr.columns:\n",
        "        order = corr['price'].abs().sort_values(ascending=False).index.tolist()\n",
        "        plot_cols = [c for c in order if c in num_cols][:8]\n",
        "\n",
        "axarr = scatter_matrix(df[plot_cols].dropna(), figsize=(12, 12))\n",
        "plt.suptitle('Scatterplot Matrix (Numeric Features)', y=1.02)\n",
        "plt.tight_layout()\n",
        "plt.savefig('scatter_matrix_numeric.png', dpi=150, bbox_inches='tight')\n",
        "plt.show()\n",
        "print('Saved scatter matrix to scatter_matrix_numeric.png')"
      ]
    },
    {
      "cell_type": "markdown",
      "id": "7a3b1b27",
      "metadata": {
        "id": "7a3b1b27"
      },
      "source": [
        "## 6. Pick Best Single Feature for Price\n",
        "We choose the numeric feature with the highest absolute correlation with `price` (excluding `price` itself)."
      ]
    },
    {
      "cell_type": "code",
      "execution_count": null,
      "id": "1fe17d78",
      "metadata": {
        "id": "1fe17d78"
      },
      "outputs": [],
      "source": [
        "if 'price' in df.columns:\n",
        "    corr_series = df.select_dtypes(include=[np.number]).corr(numeric_only=True)['price']\n",
        "    corr_series = corr_series.drop(labels=['price'])\n",
        "    best_feature = corr_series.abs().idxmax()\n",
        "    print('Best feature:', best_feature)\n",
        "    print('Correlation with price:', corr_series[best_feature])\n",
        "else:\n",
        "    best_feature = None\n",
        "    print('No price column present.')"
      ]
    },
    {
      "cell_type": "markdown",
      "id": "ae3b7755",
      "metadata": {
        "id": "ae3b7755"
      },
      "source": [
        "## 7. Visualize Best Feature vs Price\n",
        "A simple scatter with a fitted line for intuition."
      ]
    },
    {
      "cell_type": "code",
      "execution_count": null,
      "id": "e426a909",
      "metadata": {
        "id": "e426a909"
      },
      "outputs": [],
      "source": [
        "if best_feature is not None:\n",
        "    x = df[best_feature]\n",
        "    y = df['price']\n",
        "    valid = ~(x.isna() | y.isna())\n",
        "    plt.figure()\n",
        "    plt.scatter(x[valid], y[valid], alpha=0.7)\n",
        "    plt.xlabel(best_feature)\n",
        "    plt.ylabel('price')\n",
        "    plt.title(f'{best_feature} vs price')\n",
        "    # Line of best fit (visual only)\n",
        "    m, b = np.polyfit(x[valid], y[valid], 1)\n",
        "    x_line = np.linspace(x[valid].min(), x[valid].max(), 100)\n",
        "    y_line = m * x_line + b\n",
        "    plt.plot(x_line, y_line)\n",
        "    plt.tight_layout()\n",
        "    plt.savefig('best_feature_vs_price.png', dpi=150, bbox_inches='tight')\n",
        "    plt.show()\n",
        "    print('Saved best_feature_vs_price.png')"
      ]
    },
    {
      "cell_type": "markdown",
      "id": "857747f7",
      "metadata": {
        "id": "857747f7"
      },
      "source": [
        "## 8. Simple Linear Regression (One Feature)\n",
        "Train/test split, fit `LinearRegression`, report R², MAE, RMSE, and plot diagnostics."
      ]
    },
    {
      "cell_type": "code",
      "execution_count": null,
      "id": "b50c3ce0",
      "metadata": {
        "id": "b50c3ce0"
      },
      "outputs": [],
      "source": [
        "if best_feature is not None:\n",
        "    data = df[[best_feature, 'price']].dropna()\n",
        "    X = data[[best_feature]].values\n",
        "    y = data['price'].values\n",
        "\n",
        "    X_train, X_test, y_train, y_test = train_test_split(\n",
        "        X, y, test_size=0.2, random_state=42\n",
        "    )\n",
        "\n",
        "    model = LinearRegression()\n",
        "    model.fit(X_train, y_train)\n",
        "\n",
        "    y_pred = model.predict(X_test)\n",
        "\n",
        "    r2 = r2_score(y_test, y_pred)\n",
        "    mae = mean_absolute_error(y_test, y_pred)\n",
        "    rmse = mean_squared_error(y_test, y_pred, squared=False)\n",
        "    print({'feature': best_feature, 'R2': r2, 'MAE': mae, 'RMSE': rmse})\n",
        "\n",
        "    # Predicted vs Actual\n",
        "    plt.figure()\n",
        "    plt.scatter(y_test, y_pred, alpha=0.7)\n",
        "    lims = [min(y_test.min(), y_pred.min()), max(y_test.max(), y_pred.max())]\n",
        "    plt.plot(lims, lims)\n",
        "    plt.xlabel('Actual price')\n",
        "    plt.ylabel('Predicted price')\n",
        "    plt.title('Predicted vs Actual (One-Feature Linear Regression)')\n",
        "    plt.tight_layout()\n",
        "    plt.savefig('pred_vs_actual_price.png', dpi=150, bbox_inches='tight')\n",
        "    plt.show()\n",
        "    print('Saved pred_vs_actual_price.png')\n",
        "\n",
        "    # Residuals plot\n",
        "    residuals = y_test - y_pred\n",
        "    plt.figure()\n",
        "    plt.scatter(y_pred, residuals, alpha=0.7)\n",
        "    plt.axhline(0)\n",
        "    plt.xlabel('Predicted price')\n",
        "    plt.ylabel('Residuals')\n",
        "    plt.title('Residual Plot')\n",
        "    plt.tight_layout()\n",
        "    plt.savefig('residuals_price.png', dpi=150, bbox_inches='tight')\n",
        "    plt.show()\n",
        "    print('Saved residuals_price.png')\n",
        "else:\n",
        "    print('best_feature not available; check earlier steps.')"
      ]
    },
    {
      "cell_type": "markdown",
      "id": "45a75166",
      "metadata": {
        "id": "45a75166"
      },
      "source": [
        "## 9. Save Cleaned Data (Optional)"
      ]
    },
    {
      "cell_type": "code",
      "execution_count": null,
      "id": "38991aa0",
      "metadata": {
        "id": "38991aa0"
      },
      "outputs": [],
      "source": [
        "out_path = 'automobile_data_cleaned.csv'\n",
        "df.to_csv(out_path, index=False)\n",
        "out_path"
      ]
    }
  ],
  "metadata": {
    "colab": {
      "provenance": [],
      "include_colab_link": true
    }
  },
  "nbformat": 4,
  "nbformat_minor": 5
}